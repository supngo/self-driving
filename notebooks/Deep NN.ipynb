{
 "cells": [
  {
   "cell_type": "code",
   "execution_count": 14,
   "metadata": {},
   "outputs": [
    {
     "data": {
      "text/plain": [
       "<matplotlib.collections.PathCollection at 0x1a30c61828>"
      ]
     },
     "execution_count": 14,
     "metadata": {},
     "output_type": "execute_result"
    },
    {
     "data": {
      "image/png": "[encoded data removed]",
      "text/plain": [
       "<Figure size 432x288 with 1 Axes>"
      ]
     },
     "metadata": {
      "needs_background": "light"
     },
     "output_type": "display_data"
    }
   ],
   "source": [
    "import numpy as np\n",
    "import matplotlib.pyplot as plt\n",
    "from sklearn import datasets\n",
    "import keras\n",
    "from keras.models import Sequential\n",
    "from keras.layers import Dense\n",
    "from keras.optimizers import Adam\n",
    "np.random.seed(0)\n",
    "n_pts = 300\n",
    "X, Y= datasets.make_circles(n_samples=n_pts, random_state=123, noise=0.1, factor=0.2)\n",
    "#print(X) \n",
    "#print(Y)\n",
    " \n",
    "plt.scatter(X[Y==0, 0], X[Y==0, 1])\n",
    "plt.scatter(X[Y==1, 0], X[Y==1, 1])"
   ]
  },
  {
   "cell_type": "code",
   "execution_count": 18,
   "metadata": {},
   "outputs": [
    {
     "name": "stdout",
     "output_type": "stream",
     "text": [
      "Epoch 1/100\n",
      "300/300 [==============================] - 0s 786us/step - loss: 0.7030 - acc: 0.5000\n",
      "Epoch 2/100\n",
      "300/300 [==============================] - 0s 50us/step - loss: 0.6952 - acc: 0.3900\n",
      "Epoch 3/100\n",
      "300/300 [==============================] - 0s 49us/step - loss: 0.6933 - acc: 0.4200\n",
      "Epoch 4/100\n",
      "300/300 [==============================] - 0s 52us/step - loss: 0.6935 - acc: 0.4967\n",
      "Epoch 5/100\n",
      "300/300 [==============================] - 0s 53us/step - loss: 0.6931 - acc: 0.3867\n",
      "Epoch 6/100\n",
      "300/300 [==============================] - 0s 49us/step - loss: 0.6945 - acc: 0.5233\n",
      "Epoch 7/100\n",
      "300/300 [==============================] - 0s 49us/step - loss: 0.6924 - acc: 0.4967\n",
      "Epoch 8/100\n",
      "300/300 [==============================] - 0s 51us/step - loss: 0.6929 - acc: 0.5833\n",
      "Epoch 9/100\n",
      "300/300 [==============================] - 0s 49us/step - loss: 0.6905 - acc: 0.4467\n",
      "Epoch 10/100\n",
      "300/300 [==============================] - 0s 52us/step - loss: 0.6905 - acc: 0.5267\n",
      "Epoch 11/100\n",
      "300/300 [==============================] - 0s 51us/step - loss: 0.6889 - acc: 0.5633\n",
      "Epoch 12/100\n",
      "300/300 [==============================] - 0s 52us/step - loss: 0.6882 - acc: 0.4600\n",
      "Epoch 13/100\n",
      "300/300 [==============================] - 0s 54us/step - loss: 0.6869 - acc: 0.4867\n",
      "Epoch 14/100\n",
      "300/300 [==============================] - 0s 55us/step - loss: 0.6866 - acc: 0.6300\n",
      "Epoch 15/100\n",
      "300/300 [==============================] - 0s 57us/step - loss: 0.6839 - acc: 0.6067\n",
      "Epoch 16/100\n",
      "300/300 [==============================] - 0s 53us/step - loss: 0.6816 - acc: 0.5400\n",
      "Epoch 17/100\n",
      "300/300 [==============================] - 0s 52us/step - loss: 0.6788 - acc: 0.5400\n",
      "Epoch 18/100\n",
      "300/300 [==============================] - 0s 49us/step - loss: 0.6758 - acc: 0.5600\n",
      "Epoch 19/100\n",
      "300/300 [==============================] - 0s 50us/step - loss: 0.6730 - acc: 0.6233\n",
      "Epoch 20/100\n",
      "300/300 [==============================] - 0s 52us/step - loss: 0.6690 - acc: 0.6333\n",
      "Epoch 21/100\n",
      "300/300 [==============================] - 0s 52us/step - loss: 0.6652 - acc: 0.6400\n",
      "Epoch 22/100\n",
      "300/300 [==============================] - 0s 53us/step - loss: 0.6613 - acc: 0.6333\n",
      "Epoch 23/100\n",
      "300/300 [==============================] - 0s 54us/step - loss: 0.6565 - acc: 0.6367\n",
      "Epoch 24/100\n",
      "300/300 [==============================] - 0s 54us/step - loss: 0.6515 - acc: 0.6267\n",
      "Epoch 25/100\n",
      "300/300 [==============================] - 0s 53us/step - loss: 0.6465 - acc: 0.6600\n",
      "Epoch 26/100\n",
      "300/300 [==============================] - 0s 52us/step - loss: 0.6425 - acc: 0.6567\n",
      "Epoch 27/100\n",
      "300/300 [==============================] - 0s 51us/step - loss: 0.6361 - acc: 0.6600\n",
      "Epoch 28/100\n",
      "300/300 [==============================] - 0s 55us/step - loss: 0.6306 - acc: 0.6733\n",
      "Epoch 29/100\n",
      "300/300 [==============================] - 0s 51us/step - loss: 0.6253 - acc: 0.6700\n",
      "Epoch 30/100\n",
      "300/300 [==============================] - 0s 55us/step - loss: 0.6201 - acc: 0.6667\n",
      "Epoch 31/100\n",
      "300/300 [==============================] - 0s 51us/step - loss: 0.6140 - acc: 0.6733\n",
      "Epoch 32/100\n",
      "300/300 [==============================] - 0s 51us/step - loss: 0.6079 - acc: 0.6800\n",
      "Epoch 33/100\n",
      "300/300 [==============================] - 0s 52us/step - loss: 0.6031 - acc: 0.6700\n",
      "Epoch 34/100\n",
      "300/300 [==============================] - 0s 54us/step - loss: 0.5951 - acc: 0.6867\n",
      "Epoch 35/100\n",
      "300/300 [==============================] - 0s 52us/step - loss: 0.5861 - acc: 0.6967\n",
      "Epoch 36/100\n",
      "300/300 [==============================] - 0s 53us/step - loss: 0.5762 - acc: 0.7000\n",
      "Epoch 37/100\n",
      "300/300 [==============================] - 0s 50us/step - loss: 0.5649 - acc: 0.7467\n",
      "Epoch 38/100\n",
      "300/300 [==============================] - 0s 52us/step - loss: 0.5524 - acc: 0.8033\n",
      "Epoch 39/100\n",
      "300/300 [==============================] - 0s 49us/step - loss: 0.5380 - acc: 0.8467\n",
      "Epoch 40/100\n",
      "300/300 [==============================] - 0s 53us/step - loss: 0.5225 - acc: 0.8567\n",
      "Epoch 41/100\n",
      "300/300 [==============================] - 0s 50us/step - loss: 0.5065 - acc: 0.8633\n",
      "Epoch 42/100\n",
      "300/300 [==============================] - 0s 49us/step - loss: 0.4888 - acc: 0.8733\n",
      "Epoch 43/100\n",
      "300/300 [==============================] - 0s 48us/step - loss: 0.4699 - acc: 0.8867\n",
      "Epoch 44/100\n",
      "300/300 [==============================] - 0s 50us/step - loss: 0.4494 - acc: 0.9000\n",
      "Epoch 45/100\n",
      "300/300 [==============================] - 0s 52us/step - loss: 0.4279 - acc: 0.9200\n",
      "Epoch 46/100\n",
      "300/300 [==============================] - 0s 55us/step - loss: 0.4052 - acc: 0.9433\n",
      "Epoch 47/100\n",
      "300/300 [==============================] - 0s 51us/step - loss: 0.3830 - acc: 0.9633\n",
      "Epoch 48/100\n",
      "300/300 [==============================] - 0s 57us/step - loss: 0.3605 - acc: 0.9700\n",
      "Epoch 49/100\n",
      "300/300 [==============================] - 0s 49us/step - loss: 0.3399 - acc: 0.9800\n",
      "Epoch 50/100\n",
      "300/300 [==============================] - 0s 51us/step - loss: 0.3202 - acc: 0.9867\n",
      "Epoch 51/100\n",
      "300/300 [==============================] - 0s 46us/step - loss: 0.3021 - acc: 0.9967\n",
      "Epoch 52/100\n",
      "300/300 [==============================] - 0s 52us/step - loss: 0.2854 - acc: 0.9967\n",
      "Epoch 53/100\n",
      "300/300 [==============================] - 0s 48us/step - loss: 0.2696 - acc: 0.9967\n",
      "Epoch 54/100\n",
      "300/300 [==============================] - 0s 51us/step - loss: 0.2554 - acc: 0.9967\n",
      "Epoch 55/100\n",
      "300/300 [==============================] - 0s 53us/step - loss: 0.2422 - acc: 0.9967\n",
      "Epoch 56/100\n",
      "300/300 [==============================] - 0s 52us/step - loss: 0.2302 - acc: 0.9967\n",
      "Epoch 57/100\n",
      "300/300 [==============================] - 0s 54us/step - loss: 0.2192 - acc: 0.9967\n",
      "Epoch 58/100\n",
      "300/300 [==============================] - 0s 52us/step - loss: 0.2086 - acc: 0.9967\n",
      "Epoch 59/100\n",
      "300/300 [==============================] - 0s 52us/step - loss: 0.1990 - acc: 0.9967\n",
      "Epoch 60/100\n",
      "300/300 [==============================] - 0s 51us/step - loss: 0.1904 - acc: 0.9967\n",
      "Epoch 61/100\n",
      "300/300 [==============================] - 0s 55us/step - loss: 0.1822 - acc: 0.9967\n",
      "Epoch 62/100\n",
      "300/300 [==============================] - 0s 52us/step - loss: 0.1744 - acc: 0.9967\n",
      "Epoch 63/100\n",
      "300/300 [==============================] - 0s 51us/step - loss: 0.1673 - acc: 0.9967\n",
      "Epoch 64/100\n",
      "300/300 [==============================] - 0s 52us/step - loss: 0.1609 - acc: 0.9967\n",
      "Epoch 65/100\n",
      "300/300 [==============================] - 0s 52us/step - loss: 0.1547 - acc: 1.0000\n",
      "Epoch 66/100\n",
      "300/300 [==============================] - 0s 53us/step - loss: 0.1487 - acc: 1.0000\n",
      "Epoch 67/100\n",
      "300/300 [==============================] - 0s 54us/step - loss: 0.1432 - acc: 1.0000\n",
      "Epoch 68/100\n",
      "300/300 [==============================] - 0s 58us/step - loss: 0.1381 - acc: 0.9967\n",
      "Epoch 69/100\n",
      "300/300 [==============================] - 0s 56us/step - loss: 0.1333 - acc: 1.0000\n",
      "Epoch 70/100\n",
      "300/300 [==============================] - 0s 57us/step - loss: 0.1287 - acc: 1.0000\n",
      "Epoch 71/100\n",
      "300/300 [==============================] - 0s 56us/step - loss: 0.1244 - acc: 1.0000\n",
      "Epoch 72/100\n",
      "300/300 [==============================] - 0s 57us/step - loss: 0.1203 - acc: 1.0000\n",
      "Epoch 73/100\n",
      "300/300 [==============================] - 0s 55us/step - loss: 0.1165 - acc: 1.0000\n",
      "Epoch 74/100\n",
      "300/300 [==============================] - 0s 55us/step - loss: 0.1131 - acc: 1.0000\n",
      "Epoch 75/100\n",
      "300/300 [==============================] - 0s 56us/step - loss: 0.1094 - acc: 1.0000\n",
      "Epoch 76/100\n",
      "300/300 [==============================] - 0s 55us/step - loss: 0.1061 - acc: 1.0000\n",
      "Epoch 77/100\n",
      "300/300 [==============================] - 0s 57us/step - loss: 0.1030 - acc: 1.0000\n",
      "Epoch 78/100\n",
      "300/300 [==============================] - 0s 55us/step - loss: 0.1000 - acc: 1.0000\n",
      "Epoch 79/100\n",
      "300/300 [==============================] - 0s 58us/step - loss: 0.0971 - acc: 1.0000\n",
      "Epoch 80/100\n",
      "300/300 [==============================] - 0s 54us/step - loss: 0.0944 - acc: 1.0000\n",
      "Epoch 81/100\n",
      "300/300 [==============================] - 0s 54us/step - loss: 0.0918 - acc: 1.0000\n",
      "Epoch 82/100\n",
      "300/300 [==============================] - 0s 57us/step - loss: 0.0894 - acc: 1.0000\n",
      "Epoch 83/100\n",
      "300/300 [==============================] - 0s 54us/step - loss: 0.0870 - acc: 1.0000\n",
      "Epoch 84/100\n",
      "300/300 [==============================] - 0s 54us/step - loss: 0.0847 - acc: 1.0000\n",
      "Epoch 85/100\n",
      "300/300 [==============================] - 0s 54us/step - loss: 0.0825 - acc: 1.0000\n",
      "Epoch 86/100\n",
      "300/300 [==============================] - 0s 57us/step - loss: 0.0804 - acc: 1.0000\n",
      "Epoch 87/100\n",
      "300/300 [==============================] - 0s 53us/step - loss: 0.0784 - acc: 1.0000\n",
      "Epoch 88/100\n",
      "300/300 [==============================] - 0s 51us/step - loss: 0.0765 - acc: 1.0000\n",
      "Epoch 89/100\n",
      "300/300 [==============================] - 0s 50us/step - loss: 0.0746 - acc: 1.0000\n",
      "Epoch 90/100\n",
      "300/300 [==============================] - 0s 53us/step - loss: 0.0728 - acc: 1.0000\n",
      "Epoch 91/100\n",
      "300/300 [==============================] - 0s 57us/step - loss: 0.0712 - acc: 1.0000\n",
      "Epoch 92/100\n",
      "300/300 [==============================] - 0s 54us/step - loss: 0.0695 - acc: 1.0000\n",
      "Epoch 93/100\n",
      "300/300 [==============================] - 0s 56us/step - loss: 0.0679 - acc: 1.0000\n",
      "Epoch 94/100\n",
      "300/300 [==============================] - 0s 54us/step - loss: 0.0663 - acc: 1.0000\n",
      "Epoch 95/100\n",
      "300/300 [==============================] - 0s 56us/step - loss: 0.0649 - acc: 1.0000\n",
      "Epoch 96/100\n",
      "300/300 [==============================] - 0s 55us/step - loss: 0.0634 - acc: 1.0000\n",
      "Epoch 97/100\n",
      "300/300 [==============================] - 0s 55us/step - loss: 0.0621 - acc: 1.0000\n",
      "Epoch 98/100\n",
      "300/300 [==============================] - 0s 50us/step - loss: 0.0608 - acc: 1.0000\n",
      "Epoch 99/100\n",
      "300/300 [==============================] - 0s 53us/step - loss: 0.0595 - acc: 1.0000\n",
      "Epoch 100/100\n",
      "300/300 [==============================] - 0s 53us/step - loss: 0.0583 - acc: 1.0000\n"
     ]
    },
    {
     "data": {
      "text/plain": [
       "Text(0.5,0,'epoch')"
      ]
     },
     "execution_count": 18,
     "metadata": {},
     "output_type": "execute_result"
    },
    {
     "data": {
      "image/png": "[encoded data removed]",
      "text/plain": [
       "<Figure size 432x288 with 1 Axes>"
      ]
     },
     "metadata": {
      "needs_background": "light"
     },
     "output_type": "display_data"
    }
   ],
   "source": [
    "model = Sequential()\n",
    "model.add(Dense(4, input_shape=(2,), activation='sigmoid'))\n",
    "model.add(Dense(1, activation='sigmoid'))\n",
    "model.compile(Adam(lr = 0.01), 'binary_crossentropy', metrics=['accuracy'])\n",
    "h = model.fit(x=X, y=Y, verbose=1, batch_size=20, epochs=100, shuffle='true')\n",
    "\n",
    "plt.plot(h.history['acc'])\n",
    "plt.legend(['accuracy'])\n",
    "plt.ylabel('accuracy')\n",
    "plt.xlabel('epoch')\n",
    " \n",
    "plt.plot(h.history['loss'])\n",
    "plt.legend(['loss'])\n",
    "plt.title('loss')\n",
    "plt.xlabel('epoch')"
   ]
  },
  {
   "cell_type": "code",
   "execution_count": 23,
   "metadata": {},
   "outputs": [
    {
     "name": "stdout",
     "output_type": "stream",
     "text": [
      "Prediction is:  [[0.04854851]]\n"
     ]
    },
    {
     "data": {
      "image/png": "[encoded data removed]",
      "text/plain": [
       "<Figure size 432x288 with 1 Axes>"
      ]
     },
     "metadata": {
      "needs_background": "light"
     },
     "output_type": "display_data"
    }
   ],
   "source": [
    "def plot_decision_boundary(X, Y, model):\n",
    "    x_span = np.linspace(min(X[:,0]) - 0.25, max(X[:,0]) + 0.25)\n",
    "    y_span = np.linspace(min(X[:,1]) - 0.25, max(X[:,1]) + 0.25)\n",
    "    xx, yy = np.meshgrid(x_span, y_span)\n",
    "    grid = np.c_[xx.ravel(), yy.ravel()]\n",
    "    pred_func = model.predict(grid)\n",
    "    z = pred_func.reshape(xx.shape)\n",
    "    plt.contourf(xx, yy, z)\n",
    "plot_decision_boundary(X, Y, model)\n",
    "plt.scatter(X[Y==0, 0], X[Y==0, 1])\n",
    "plt.scatter(X[Y==1, 0], X[Y==1, 1])\n",
    "plot_decision_boundary(X, Y, model)\n",
    "plt.scatter(X[Y==0, 0], X[Y==0, 1])\n",
    "plt.scatter(X[Y==1, 0], X[Y==1, 1])\n",
    " \n",
    "x = 0.1\n",
    "y = 0.75\n",
    " \n",
    "point = np.array([[x, y]])\n",
    "predict = model.predict(point)\n",
    "plt.plot([x], [y], marker='o', markersize=15, color=\"white\")\n",
    "print(\"Prediction is: \", predict)"
   ]
  },
  {
   "cell_type": "code",
   "execution_count": null,
   "metadata": {},
   "outputs": [],
   "source": []
  }
 ],
 "metadata": {
  "kernelspec": {
   "display_name": "Python 3",
   "language": "python",
   "name": "python3"
  },
  "language_info": {
   "codemirror_mode": {
    "name": "ipython",
    "version": 3
   },
   "file_extension": ".py",
   "mimetype": "text/x-python",
   "name": "python",
   "nbconvert_exporter": "python",
   "pygments_lexer": "ipython3",
   "version": "3.7.0"
  }
 },
 "nbformat": 4,
 "nbformat_minor": 2
}
