{
 "cells": [
  {
   "cell_type": "code",
   "execution_count": 2,
   "metadata": {},
   "outputs": [],
   "source": [
    "import numpy as np\n",
    "import matplotlib.pyplot as plt\n",
    "from keras.models import Sequential\n",
    "from keras.layers import Dense\n",
    "from keras.optimizers import Adam\n",
    "\n",
    "\n",
    "np.random.seed(0)\n",
    "points = 500\n",
    "X = np.linspace(-3, 3, points)\n",
    "y = np.sin(X) + np.random.uniform(-0.5, 0.5, points)\n",
    "\n",
    "model = Sequential()\n",
    "model.add(Dense(50, activation='sigmoid', input_dim=1))\n",
    "model.add(Dense(30, activation='sigmoid'))\n",
    "model.add(Dense(1))"
   ]
  },
  {
   "cell_type": "code",
   "execution_count": 3,
   "metadata": {},
   "outputs": [
    {
     "name": "stdout",
     "output_type": "stream",
     "text": [
      "Epoch 1/50\n",
      "500/500 [==============================] - 0s 975us/step - loss: 0.4440\n",
      "Epoch 2/50\n",
      "500/500 [==============================] - 0s 75us/step - loss: 0.2371\n",
      "Epoch 3/50\n",
      "500/500 [==============================] - 0s 89us/step - loss: 0.2659\n",
      "Epoch 4/50\n",
      "500/500 [==============================] - 0s 46us/step - loss: 0.2269\n",
      "Epoch 5/50\n",
      "500/500 [==============================] - 0s 57us/step - loss: 0.2283\n",
      "Epoch 6/50\n",
      "500/500 [==============================] - 0s 62us/step - loss: 0.2262\n",
      "Epoch 7/50\n",
      "500/500 [==============================] - 0s 77us/step - loss: 0.2194\n",
      "Epoch 8/50\n",
      "500/500 [==============================] - 0s 76us/step - loss: 0.2219\n",
      "Epoch 9/50\n",
      "500/500 [==============================] - 0s 75us/step - loss: 0.2066\n",
      "Epoch 10/50\n",
      "500/500 [==============================] - 0s 73us/step - loss: 0.1925\n",
      "Epoch 11/50\n",
      "500/500 [==============================] - 0s 84us/step - loss: 0.1925\n",
      "Epoch 12/50\n",
      "500/500 [==============================] - 0s 53us/step - loss: 0.1794\n",
      "Epoch 13/50\n",
      "500/500 [==============================] - 0s 46us/step - loss: 0.1702\n",
      "Epoch 14/50\n",
      "500/500 [==============================] - 0s 45us/step - loss: 0.1597\n",
      "Epoch 15/50\n",
      "500/500 [==============================] - 0s 52us/step - loss: 0.1572\n",
      "Epoch 16/50\n",
      "500/500 [==============================] - 0s 64us/step - loss: 0.1468\n",
      "Epoch 17/50\n",
      "500/500 [==============================] - 0s 65us/step - loss: 0.1408\n",
      "Epoch 18/50\n",
      "500/500 [==============================] - 0s 61us/step - loss: 0.1329\n",
      "Epoch 19/50\n",
      "500/500 [==============================] - 0s 66us/step - loss: 0.1236\n",
      "Epoch 20/50\n",
      "500/500 [==============================] - 0s 70us/step - loss: 0.1282\n",
      "Epoch 21/50\n",
      "500/500 [==============================] - 0s 52us/step - loss: 0.1189\n",
      "Epoch 22/50\n",
      "500/500 [==============================] - 0s 48us/step - loss: 0.1175\n",
      "Epoch 23/50\n",
      "500/500 [==============================] - 0s 51us/step - loss: 0.1191\n",
      "Epoch 24/50\n",
      "500/500 [==============================] - 0s 49us/step - loss: 0.1173\n",
      "Epoch 25/50\n",
      "500/500 [==============================] - 0s 48us/step - loss: 0.1112\n",
      "Epoch 26/50\n",
      "500/500 [==============================] - 0s 56us/step - loss: 0.1081\n",
      "Epoch 27/50\n",
      "500/500 [==============================] - 0s 70us/step - loss: 0.1111\n",
      "Epoch 28/50\n",
      "500/500 [==============================] - 0s 86us/step - loss: 0.1242\n",
      "Epoch 29/50\n",
      "500/500 [==============================] - 0s 68us/step - loss: 0.1237\n",
      "Epoch 30/50\n",
      "500/500 [==============================] - 0s 79us/step - loss: 0.1128\n",
      "Epoch 31/50\n",
      "500/500 [==============================] - 0s 71us/step - loss: 0.1077\n",
      "Epoch 32/50\n",
      "500/500 [==============================] - 0s 46us/step - loss: 0.1144\n",
      "Epoch 33/50\n",
      "500/500 [==============================] - 0s 50us/step - loss: 0.1079\n",
      "Epoch 34/50\n",
      "500/500 [==============================] - 0s 42us/step - loss: 0.1110\n",
      "Epoch 35/50\n",
      "500/500 [==============================] - 0s 38us/step - loss: 0.1045\n",
      "Epoch 36/50\n",
      "500/500 [==============================] - 0s 68us/step - loss: 0.1087\n",
      "Epoch 37/50\n",
      "500/500 [==============================] - 0s 135us/step - loss: 0.1067\n",
      "Epoch 38/50\n",
      "500/500 [==============================] - 0s 79us/step - loss: 0.1054\n",
      "Epoch 39/50\n",
      "500/500 [==============================] - 0s 58us/step - loss: 0.1050\n",
      "Epoch 40/50\n",
      "500/500 [==============================] - 0s 64us/step - loss: 0.1046\n",
      "Epoch 41/50\n",
      "500/500 [==============================] - 0s 53us/step - loss: 0.1151\n",
      "Epoch 42/50\n",
      "500/500 [==============================] - 0s 54us/step - loss: 0.1029\n",
      "Epoch 43/50\n",
      "500/500 [==============================] - 0s 46us/step - loss: 0.1032\n",
      "Epoch 44/50\n",
      "500/500 [==============================] - 0s 41us/step - loss: 0.1058\n",
      "Epoch 45/50\n",
      "500/500 [==============================] - 0s 51us/step - loss: 0.1019\n",
      "Epoch 46/50\n",
      "500/500 [==============================] - 0s 62us/step - loss: 0.1017\n",
      "Epoch 47/50\n",
      "500/500 [==============================] - 0s 72us/step - loss: 0.1120\n",
      "Epoch 48/50\n",
      "500/500 [==============================] - 0s 63us/step - loss: 0.1085\n",
      "Epoch 49/50\n",
      "500/500 [==============================] - 0s 72us/step - loss: 0.1040\n",
      "Epoch 50/50\n",
      "500/500 [==============================] - 0s 52us/step - loss: 0.1078\n"
     ]
    },
    {
     "data": {
      "text/plain": [
       "<keras.callbacks.History at 0xb2f7eab38>"
      ]
     },
     "execution_count": 3,
     "metadata": {},
     "output_type": "execute_result"
    }
   ],
   "source": [
    "adam = Adam(lr=0.01)\n",
    "model.compile(loss='mse', optimizer=adam)\n",
    "model.fit(X, y, epochs=50)"
   ]
  },
  {
   "cell_type": "code",
   "execution_count": 4,
   "metadata": {},
   "outputs": [
    {
     "data": {
      "image/png": "[encoded data removed]",
      "text/plain": [
       "<Figure size 432x288 with 1 Axes>"
      ]
     },
     "metadata": {
      "needs_background": "light"
     },
     "output_type": "display_data"
    }
   ],
   "source": [
    "predictions = model.predict(X)\n",
    "plt.scatter(X, y)\n",
    "plt.plot(X, predictions, 'ro')\n",
    "plt.show()"
   ]
  },
  {
   "cell_type": "code",
   "execution_count": null,
   "metadata": {},
   "outputs": [],
   "source": []
  }
 ],
 "metadata": {
  "kernelspec": {
   "display_name": "Python 3",
   "language": "python",
   "name": "python3"
  },
  "language_info": {
   "codemirror_mode": {
    "name": "ipython",
    "version": 3
   },
   "file_extension": ".py",
   "mimetype": "text/x-python",
   "name": "python",
   "nbconvert_exporter": "python",
   "pygments_lexer": "ipython3",
   "version": "3.7.0"
  }
 },
 "nbformat": 4,
 "nbformat_minor": 2
}
