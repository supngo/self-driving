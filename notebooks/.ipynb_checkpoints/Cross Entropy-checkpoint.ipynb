{
 "cells": [
  {
   "cell_type": "code",
   "execution_count": 5,
   "metadata": {},
   "outputs": [],
   "source": [
    "import numpy as np\n",
    "import matplotlib.pyplot as plt\n",
    "%matplotlib inline"
   ]
  },
  {
   "cell_type": "code",
   "execution_count": 6,
   "metadata": {},
   "outputs": [],
   "source": [
    "def draw(x1,x2):\n",
    "    ln=plt.plot(x1, x2)\n",
    "    \n",
    "def sigmoid(score):\n",
    "    return 1/(1+np.exp(-score))\n",
    " \n",
    "def calculate_error(line_parameters, points, y):\n",
    "    n = points.shape[0]\n",
    "    p = sigmoid(points * line_parameters)\n",
    "    cross_entropy = -(1/n) * (np.log(p).T * y + np.log(1-p).T * (1-y))\n",
    "    return cross_entropy"
   ]
  },
  {
   "cell_type": "code",
   "execution_count": 7,
   "metadata": {},
   "outputs": [],
   "source": [
    "n_pts = 10\n",
    "np.random.seed(0)\n",
    "bias = np.ones(n_pts)\n",
    "top_region = np.array([np.random.normal(10,2,n_pts), np.random.normal(12,2,n_pts), bias]).T\n",
    "bottom_region = np.array([np.random.normal(5,2, n_pts), np.random.normal(6,2, n_pts), bias]).T\n",
    "all_points = np.vstack((top_region, bottom_region))\n",
    "w1 = -0.1\n",
    "w2 = -0.15\n",
    "b = 0\n",
    "line_parameters = np.matrix([w1,w2,b]).T\n",
    "x1 = np.array([bottom_region[:,0].min(), top_region[:,0].max()])\n",
    "x2 = -b/w2 + (x1 * (-w1/w2))\n",
    "y = np.array([np.zeros(n_pts), np.ones(n_pts)]).reshape(n_pts * 2, 1)"
   ]
  },
  {
   "cell_type": "code",
   "execution_count": 8,
   "metadata": {},
   "outputs": [
    {
     "data": {
      "image/png": "[encoded data removed]",
      "text/plain": [
       "<Figure size 288x288 with 1 Axes>"
      ]
     },
     "metadata": {
      "needs_background": "light"
     },
     "output_type": "display_data"
    },
    {
     "name": "stdout",
     "output_type": "stream",
     "text": [
      "[[0.84528472]]\n"
     ]
    }
   ],
   "source": [
    "_, ax = plt.subplots(figsize = (4,4))\n",
    "ax.scatter(top_region[:,0], top_region[:,1], color = 'r')\n",
    "ax.scatter(bottom_region[:,0], bottom_region[:,1], color = 'b')\n",
    "draw(x1, x2)\n",
    "plt.show()\n",
    " \n",
    "print((calculate_error(line_parameters, all_points, y)))"
   ]
  },
  {
   "cell_type": "code",
   "execution_count": null,
   "metadata": {},
   "outputs": [],
   "source": []
  }
 ],
 "metadata": {
  "kernelspec": {
   "display_name": "Python 3",
   "language": "python",
   "name": "python3"
  },
  "language_info": {
   "codemirror_mode": {
    "name": "ipython",
    "version": 3
   },
   "file_extension": ".py",
   "mimetype": "text/x-python",
   "name": "python",
   "nbconvert_exporter": "python",
   "pygments_lexer": "ipython3",
   "version": "3.7.0"
  }
 },
 "nbformat": 4,
 "nbformat_minor": 2
}
